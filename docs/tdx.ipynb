{
 "cells": [
  {
   "cell_type": "code",
   "execution_count": 3,
   "id": "782747bb-c28e-4e1b-861d-f1c2c05af6ed",
   "metadata": {},
   "outputs": [],
   "source": [
    "import tdx"
   ]
  },
  {
   "cell_type": "code",
   "execution_count": 4,
   "id": "56f020fe-7ec7-42d7-b5ae-cb6d99b91651",
   "metadata": {},
   "outputs": [
    {
     "data": {
      "text/plain": [
       "<module 'tdx' from 'D:\\\\download\\\\jupyter-ide\\\\src\\\\Lib\\\\site-packages\\\\tdx\\\\__init__.py'>"
      ]
     },
     "execution_count": 4,
     "metadata": {},
     "output_type": "execute_result"
    }
   ],
   "source": [
    "tdx"
   ]
  },
  {
   "cell_type": "code",
   "execution_count": 5,
   "id": "05abbdcf-a3d5-44c8-a09c-c435696f024d",
   "metadata": {},
   "outputs": [],
   "source": [
    "import tdx"
   ]
  },
  {
   "cell_type": "code",
   "execution_count": 6,
   "id": "c6e8e8b4-454d-445e-940b-46746e9dbbc0",
   "metadata": {},
   "outputs": [
    {
     "data": {
      "text/plain": [
       "<module 'tdx' from 'D:\\\\download\\\\jupyter-ide\\\\src\\\\Lib\\\\site-packages\\\\tdx\\\\__init__.py'>"
      ]
     },
     "execution_count": 6,
     "metadata": {},
     "output_type": "execute_result"
    }
   ],
   "source": [
    "tdx"
   ]
  },
  {
   "cell_type": "code",
   "execution_count": 9,
   "id": "8231d468-827c-4ac2-b6d2-3f734556bd53",
   "metadata": {},
   "outputs": [],
   "source": [
    "import tdx\n",
    "\n",
    "def Initialize(ctx):\n",
    "    ctx.log.Trace('Trace')\n",
    "    ctx.log.Debug('Debug')\n",
    "    ctx.log.Info('Info')\n",
    "    ctx.log.Notice('Notice')\n",
    "    ctx.log.Warn('Warn')\n",
    "    ctx.log.Error('Error')\n",
    "    ctx.log.Fatal('Fatal')\n",
    "\n",
    "def Main():\n",
    "    ctxtype = tdx.ANALYSE # 分析统计\n",
    "    #ctxtype = tdx.BACKTEST # 回测\n",
    "    #ctxtype = tdx.TRADE # 交易\n",
    "    ctx = tdx.Context(type = ctxtype, sdate = 20220101, edate = 20220201,\n",
    "                      logfilelevel = tdx.LTRACE, \n",
    "                      logconsolelevel = tdx.LTRACE,\n",
    "                      logappend = False)\n",
    "    if ctx.type == tdx.BACKTEST:\n",
    "        pass\n",
    "    elif ctx.type == tdx.TRADE:\n",
    "        pass\n",
    "    elif ctx.type == tdx.ANALYSE:\n",
    "        pass\n",
    "    tdx.Run(Initialize, ctx)\n",
    "\n",
    "Main()"
   ]
  },
  {
   "cell_type": "code",
   "execution_count": 11,
   "id": "2cbcecb3-8e23-4190-9825-2d3f9e12bb46",
   "metadata": {},
   "outputs": [
    {
     "name": "stdout",
     "output_type": "stream",
     "text": [
      "#######################################\n"
     ]
    }
   ],
   "source": [
    "import tdx\n",
    "\n",
    "def OnDelayCheckWT(ctx):\n",
    "    wt = tdx.WTOrder(tdx.WTOrder, tdx.KDay.close)\n",
    "    for it in wt:\n",
    "        wtno = it.data[0] # 委托编号\n",
    "        #success, wtno = tdx.COrder(wtno) # 没有成交则撤单\n",
    "\n",
    "def OnKDayBar(ctx): \n",
    "    ### 持仓列表(tdx.Pool)\n",
    "    position = tdx.Position()\n",
    "    if position: # 存在持仓\n",
    "        for it in position:\n",
    "            kline = tdx.KLine(it.code, it.market, num = 20, fq = tdx.FQ_N)\n",
    "            if -1 == tdx.CROSS(tdx.MA(kline.close, 5), tdx.MA(kline.close, 10), final = True): # 下破\n",
    "                kline = tdx.KLine(it.code, it.market, num = 1)\n",
    "                success, wtno = tdx.SOrder(it.code, it.market, kline.close[0], it.data[3]) # 委托卖出\n",
    "                if success:\n",
    "                    ctx.log.Info('S-' + it.code + ('.SH' if it.market==tdx.SZ else '.SZ') + ' 委托成功，委托编号：' + wtno + ' 委托数量：' + str(it.data[1]) + ' 委托价格：' + str(kline.close[0])\\\n",
    "                        + ' 卖出原因：均线下破')\n",
    "                else:\n",
    "                    ctx.log.Error('S-' + it.code + ('.SH' if it.market==tdx.SZ else '.SZ') + ' 委托失败，失败原因：' + wtno)\n",
    "\n",
    "    else: # 不存在持仓\n",
    "        # 沪深300(换手率>2% & 高开1%)(应该要剔除涨停股)\n",
    "        #print(tdx.GZ(\"002049\", tdx.SZ))\n",
    "        #print(tdx.KLine(\"002049\", tdx.SZ, num = 1))\n",
    "        cond = (tdx.GZ.hsl >= 2.0) & (((tdx.KDay.open - tdx.KDay.preclose) / tdx.KDay.preclose) * 100 > 1.0)\n",
    "        pool_hs300 = tdx.Pool('399300', tdx.SZ).Select(cond).Panel(tdx.GZ.hsl)\n",
    "        gk = pool_hs300(((tdx.KDay.open - tdx.KDay.preclose) / tdx.KDay.preclose) * 100) #高开1%\n",
    "        l = []\n",
    "        for it in pool_hs300:\n",
    "            kline = tdx.KLine(it.code, it.market, num = 20, fq = tdx.FQ_N)\n",
    "            if 1 == tdx.CROSS(tdx.MA(kline.close, 5), tdx.MA(kline.close, 10), final = True): # 上穿\n",
    "                l.append((it.code, it.market))\n",
    "        if l:\n",
    "            pool = tdx.Pool(l).Sort(tdx.GZ.hsl, asc = False) # 换手率从大到小排序\n",
    "            code, market, data = pool[0] # 排名第一的\n",
    "            kline = tdx.KLine(code, market, num = 1)\n",
    "            num = int(ctx.account.kyye / kline.close[0] / 100) * 100 # 买入数量(100的倍数)\n",
    "            success, wtno = tdx.BOrder(code, market, kline.close[0], num) # 委托买入\n",
    "            if success:\n",
    "                ctx.log.Info('B-' + code + ('.SH' if market==tdx.SZ else '.SZ') + ' 委托成功，委托编号：' + wtno + ' 委托数量：' + str(num) + ' 委托价格：' + str(kline.close[0])\\\n",
    "                    + ' 买入原因：均线上穿')\n",
    "                ctx.event.Delay(OnDelayCheckWT, 120000) # 2分钟后检查一次是否成交\n",
    "            else:\n",
    "                ctx.log.Error('B-' + code + ('.SH' if market==tdx.SZ else '.SZ') + ' 委托失败，失败原因：' + wtno)\n",
    "\n",
    "\n",
    "def OnKCloseLookUpWTOrders(ctx):\n",
    "    #################################################################\n",
    "    # 收盘检查今日委托单\n",
    "    #################################################################\n",
    "    wt = tdx.WTOrder()\n",
    "    for it in wt:\n",
    "        if tdx.WTUNHAPPEN == it.data[2] or tdx.WTFAILED == it.data[2] or tdx.WTCLEAR == it.data[2]:\n",
    "            if tdx.WTBUY == it.data[1]:\n",
    "                ctx.log.Info('B-' + it.code + ('.SH' if it.market==tdx.SZ else '.SZ') + ' 委托未成交，' + '委托数量：' + str(it.data[3]) + ' 委托价格：' + '%.2f'%it.data[4] + ' 委托时间：' + str(it.data[7]))\n",
    "            elif tdx.WTSELL == it.data[1]:\n",
    "                ctx.log.Info('S-' + it.code + ('.SH' if it.market==tdx.SZ else '.SZ') + ' 委托未成交，' + '委托数量：' + str(it.data[3]) + ' 委托价格：' + '%.2f'%it.data[4] + ' 委托时间：' + str(it.data[7]))\n",
    "        elif tdx.WTCANCEL == it.data[2]:\n",
    "            if tdx.WTBUY == it.data[1]:\n",
    "                ctx.log.Info('B-' + it.code + ('.SH' if it.market==tdx.SZ else '.SZ') + ' 委托撤单，' + '委托数量：' + str(it.data[3]) + ' 委托价格：' + '%.2f'%it.data[4] + ' 委托时间：' + str(it.data[7]) + ' 撤单时间：' + str(it.data[8]))\n",
    "            elif tdx.WTSELL == it.data[1]:\n",
    "                ctx.log.Info('S-' + it.code + ('.SH' if it.market==tdx.SZ else '.SZ') + ' 委托撤单，' + '委托数量：' + str(it.data[3]) + ' 委托价格：' + '%.2f'%it.data[4] + ' 委托时间：' + str(it.data[7]) + ' 撤单时间：' + str(it.data[8]))\n",
    "        elif tdx.WTHAPPEN == it.data[2]:\n",
    "            if tdx.WTBUY == it.data[1]:\n",
    "                ctx.log.Info('B-' + it.code + ('.SH' if it.market==tdx.SZ else '.SZ') + ' 委托成交，' + '委托数量：' + str(it.data[3]) + ' 委托价格：' + '%.2f'%it.data[4] + ' 委托时间：' + str(it.data[7]) + ' 成交时间：' + str(it.data[8]) + ' 发生金额：' + '%.2f'%it.data[5])\n",
    "            elif tdx.WTSELL == it.data[1]:\n",
    "                ctx.log.Info('S-' + it.code + ('.SH' if it.market==tdx.SZ else '.SZ') + ' 委托成交，' + '委托数量：' + str(it.data[3]) + ' 委托价格：' + '%.2f'%it.data[4] + ' 委托时间：' + str(it.data[7]) + ' 成交时间：' + str(it.data[8]) + ' 发生金额：' + '%.2f'%it.data[5])\n",
    "\n",
    "\n",
    "def OnFinish(ctx):\n",
    "    ctx.log.Info('%s' % ctx.account)\n",
    "    yk = ctx.account.sz +  ctx.account.ye -  ctx.account.zrzj # 盈亏 = 市值 + 余额 - 转入资金\n",
    "    yk_rate = yk / ctx.account.zrzj * 100\n",
    "    if yk < 0:\n",
    "        ctx.log.Info('亏损：%.2f  %.2f%%' % (yk, yk_rate))\n",
    "    else:\n",
    "        ctx.log.Info('盈利：%.2f  %.2f%%' % (yk, yk_rate))\n",
    "\n",
    "\n",
    "def Initialize(ctx):\n",
    "    #################################################################\n",
    "    '''\n",
    "    均线策略\n",
    "    '''\n",
    "    #################################################################\n",
    "    ctx.event.KBar(OnKDayBar, ktype = tdx.K_DAY, closetime = 145500)\n",
    "    ctx.event.KClose(OnKCloseLookUpWTOrders)\n",
    "    ctx.event.Finish(OnFinish)\n",
    "\n",
    "\n",
    "def main():\n",
    "    ctx = tdx.Context(type = tdx.BACKTEST, \n",
    "                      sdate = 20210604,\n",
    "                      edate = 20211128, \n",
    "                      logfilelevel = tdx.LTRACE,\n",
    "                      logconsolelevel = tdx.LINFO,\n",
    "                      logappend = True)\n",
    "    if ctx.type == tdx.BACKTEST: ### 回测 设置费率\n",
    "    #    ctx.account.zrzj = 100000 # 转入资金(初始化资金)\n",
    "    #    ctx.cost.buytaxmin = 0 # 最低买入佣金 默认5元\n",
    "    #    ctx.cost.selltaxmin = 0 # 最低卖出佣金 默认5元\n",
    "     #   ctx.cost.buytaxrate = 0.00000 # 买入佣金率 默认 0.0003\n",
    "     #   ctx.cost.selltaxrate = 0.00000 # 卖出佣金率 默认 0.0003\n",
    "     #   ctx.cost.buystamprate = 0 # 买入印花费率 默认 0.000\n",
    "    #    ctx.cost.sellstamprate = 0.000 # 卖出印花费率 默认 0.001\n",
    "     #   ctx.cost.buytransferrate = 0.00000 # 买入过户费率 默认 0.00002\n",
    "    #    ctx.cost.selltransferrate = 0.00000 # 卖出过户费率 默认 0.00002\n",
    "    #    ctx.cost.fhrate = 0.2 # 股票分红税率 默认 0.20\n",
    "    #    ctx.cost.sgrate = 0.2 # 送股税率 默认 0.20\n",
    "        pass\n",
    "    elif ctx.type == tdx.TRADE: ### 交易 登录账号\n",
    "        pass\n",
    "    elif ctx.type == tdx.ANALYSE: ### 统计分析\n",
    "        pass\n",
    "\n",
    "    tdx.Run(Initialize, ctx)\n",
    "    tdx.CloseCache()\n",
    "    print('#######################################')\n",
    "\n",
    "if __name__ == \"__main__\":\n",
    "    main()"
   ]
  },
  {
   "cell_type": "code",
   "execution_count": null,
   "id": "80d297ea-9df2-4337-bab0-773e35964fba",
   "metadata": {},
   "outputs": [],
   "source": []
  }
 ],
 "metadata": {
  "kernelspec": {
   "display_name": "Python 3 (ipykernel)",
   "language": "python",
   "name": "python3"
  },
  "language_info": {
   "codemirror_mode": {
    "name": "ipython",
    "version": 3
   },
   "file_extension": ".py",
   "mimetype": "text/x-python",
   "name": "python",
   "nbconvert_exporter": "python",
   "pygments_lexer": "ipython3",
   "version": "3.7.9"
  }
 },
 "nbformat": 4,
 "nbformat_minor": 5
}
