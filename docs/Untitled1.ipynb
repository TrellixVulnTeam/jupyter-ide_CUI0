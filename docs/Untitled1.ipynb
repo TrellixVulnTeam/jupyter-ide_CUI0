{
 "cells": [
  {
   "cell_type": "code",
   "execution_count": 1,
   "id": "a0588d7b-821b-430d-8b04-8e15b283dbec",
   "metadata": {},
   "outputs": [
    {
     "name": "stdout",
     "output_type": "stream",
     "text": [
      "go\n"
     ]
    }
   ],
   "source": [
    "print('go')"
   ]
  },
  {
   "cell_type": "code",
   "execution_count": null,
   "id": "a894e76e-68b6-4ddf-9903-3606a87284f7",
   "metadata": {},
   "outputs": [],
   "source": []
  }
 ],
 "metadata": {
  "kernelspec": {
   "display_name": "Python 3 (ipykernel)",
   "language": "python",
   "name": "python3"
  },
  "language_info": {
   "codemirror_mode": {
    "name": "ipython",
    "version": 3
   },
   "file_extension": ".py",
   "mimetype": "text/x-python",
   "name": "python",
   "nbconvert_exporter": "python",
   "pygments_lexer": "ipython3",
   "version": "3.7.9"
  }
 },
 "nbformat": 4,
 "nbformat_minor": 5
}
