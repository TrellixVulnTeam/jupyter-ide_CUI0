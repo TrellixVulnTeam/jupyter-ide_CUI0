{
 "cells": [
  {
   "cell_type": "code",
   "execution_count": 2,
   "id": "66c0dbef-3b0c-4988-b007-578ff5a19c00",
   "metadata": {},
   "outputs": [
    {
     "name": "stdout",
     "output_type": "stream",
     "text": [
      "3\n",
      "4\n",
      "7\n",
      "hello world\n"
     ]
    }
   ],
   "source": [
    "def func(a, b):\n",
    "    print(a)\n",
    "    print(b)\n",
    "    c = a + b\n",
    "    print(c)\n",
    "func(3,4)\n",
    "\n",
    "print('hello world')\n"
   ]
  },
  {
   "cell_type": "code",
   "execution_count": 3,
   "id": "aa757ad1-d3c3-443d-a6c4-67f32b7b42dc",
   "metadata": {},
   "outputs": [
    {
     "name": "stdout",
     "output_type": "stream",
     "text": [
      "4\n",
      "8\n",
      "12\n",
      "7\n",
      "9\n",
      "16\n",
      "hello 2\n",
      "4\n",
      "3\n",
      "7\n",
      "hello 3\n"
     ]
    }
   ],
   "source": [
    "func(4, 8)\n",
    "func(7, 9)\n",
    "print('hello 2')\n",
    "a = 4\n",
    "b = 3\n",
    "func(a, b)\n",
    "print('hello 3')\n"
   ]
  },
  {
   "cell_type": "code",
   "execution_count": 4,
   "id": "63af9066-dc59-4097-a161-d2b98f41f67a",
   "metadata": {},
   "outputs": [
    {
     "name": "stdout",
     "output_type": "stream",
     "text": [
      "9\n",
      "10\n",
      "19\n"
     ]
    }
   ],
   "source": [
    "func(9, 10)"
   ]
  },
  {
   "cell_type": "code",
   "execution_count": 4,
   "id": "52f1ef1f-9cf6-4033-a0a1-74e73a3ac95e",
   "metadata": {},
   "outputs": [
    {
     "name": "stdout",
     "output_type": "stream",
     "text": [
      "go\n"
     ]
    }
   ],
   "source": [
    "print(\"go\")"
   ]
  },
  {
   "cell_type": "code",
   "execution_count": 5,
   "id": "81b2ba6e-62d0-4eb3-9861-bdf2eaa70d09",
   "metadata": {},
   "outputs": [],
   "source": [
    "import os\n"
   ]
  },
  {
   "cell_type": "code",
   "execution_count": 7,
   "id": "b32c165e-dcfc-4a1b-b7dc-ac714c9752c4",
   "metadata": {},
   "outputs": [
    {
     "data": {
      "text/plain": [
       "['.ipynb_checkpoints',\n",
       " 'package_size.txt',\n",
       " 'python_package.dep.txt',\n",
       " 'readme.md',\n",
       " 'Untitled Folder',\n",
       " 'Untitled.ipynb',\n",
       " 'untitled.py',\n",
       " 'Untitled1.ipynb',\n",
       " 'untitled1.py']"
      ]
     },
     "execution_count": 7,
     "metadata": {},
     "output_type": "execute_result"
    }
   ],
   "source": [
    "os.listdir(\".\")"
   ]
  },
  {
   "cell_type": "code",
   "execution_count": null,
   "id": "2ccb624e-7fdb-4ed5-bdf9-c3cf90294da2",
   "metadata": {},
   "outputs": [],
   "source": []
  }
 ],
 "metadata": {
  "kernelspec": {
   "display_name": "Python 3 (ipykernel)",
   "language": "python",
   "name": "python3"
  },
  "language_info": {
   "codemirror_mode": {
    "name": "ipython",
    "version": 3
   },
   "file_extension": ".py",
   "mimetype": "text/x-python",
   "name": "python",
   "nbconvert_exporter": "python",
   "pygments_lexer": "ipython3",
   "version": "3.7.9"
  },
  "toc-autonumbering": false
 },
 "nbformat": 4,
 "nbformat_minor": 5
}
